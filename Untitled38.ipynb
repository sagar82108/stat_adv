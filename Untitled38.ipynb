{
 "cells": [
  {
   "cell_type": "code",
   "execution_count": null,
   "id": "9c451396-6ad4-4db8-8d82-35a8cda75868",
   "metadata": {},
   "outputs": [],
   "source": [
    "ans1) In data science, the Probability Density Function (PDF) is a fundamental concept in probability theory and statistics. \n",
    "It is used to describe the likelihood of a continuous random variable taking on a specific value within a certain interval.\n",
    "In other words, the PDF provides a way to model the distribution of values that a continuous random variable can take.\n",
    "\n",
    "Non-negative values: The PDF values are always non-negative, meaning f(x) ≥ 0 for all x.\n",
    "\n",
    "Area under the curve: The total area under the PDF curve over its entire range is equal to 1. \n",
    "This ensures that the sum of probabilities across all possible values of the random variable is equal to 1."
   ]
  },
  {
   "cell_type": "code",
   "execution_count": null,
   "id": "c6a00318-881d-4ff7-9447-14e34b438073",
   "metadata": {},
   "outputs": [],
   "source": [
    "#ans2)\n",
    "Discrete Distributions:\n",
    "\n",
    "Bernoulli Distribution: Models a binary outcome (success/failure) with a single trial, characterized by a parameter p representing the probability of success.\n",
    "Binomial Distribution: Represents the number of successes in a fixed number of independent Bernoulli trials.\n",
    "Poisson Distribution: Models the number of events occurring in a fixed interval of time or space, given a known average rate of occurrence.\n",
    "\n",
    "Continuous Distributions:\n",
    "\n",
    "Normal (Gaussian) Distribution: One of the most common distributions, characterized by a bell-shaped curve.\n",
    "It's widely used due to the Central Limit Theorem and is present in many natural phenomena\n",
    "\n",
    "chi-Square Distribution: Often used in hypothesis testing, especially in the context of comparing observed and expected frequencies.\n",
    "Student's t-Distribution: Used in t-tests and confidence interval calculations when sample sizes are small and population standard deviation is unknown.\n",
    "F-Distribution: Used in analysis of variance (ANOVA) and regression analysis to compare variances between multiple groups."
   ]
  },
  {
   "cell_type": "code",
   "execution_count": 9,
   "id": "23e79fff-8059-4fe7-85cc-7ff7870f04b9",
   "metadata": {},
   "outputs": [
    {
     "name": "stdout",
     "output_type": "stream",
     "text": [
      "PDF at 0.5: 0.3520653267642995\n"
     ]
    }
   ],
   "source": [
    "#ans3)\n",
    "import math\n",
    "\n",
    "def normal_pdf(x, mean, std_dev):\n",
    "    \"\"\"\n",
    "    Calculate the PDF of a normal distribution at a given point.\n",
    "\n",
    "    Args:\n",
    "        x (float): The point at which to calculate the PDF.\n",
    "        mean (float): Mean of the normal distribution.\n",
    "        std_dev (float): Standard deviation of the normal distribution.\n",
    "\n",
    "    Returns:\n",
    "        float: The value of the PDF at the given point.\n",
    "    \"\"\"\n",
    "    coefficient = 1 / (std_dev * math.sqrt(2 * math.pi))\n",
    "    exponent = -0.5 * ((x - mean) / std_dev)**2\n",
    "    pdf_value = coefficient * math.exp(exponent)\n",
    "    return pdf_value\n",
    "\n",
    "# Example usage\n",
    "mean = 0\n",
    "std_dev = 1\n",
    "point = 0.5\n",
    "pdf_at_point = normal_pdf(point, mean, std_dev)\n",
    "print(f\"PDF at {point}: {pdf_at_point}\")\n"
   ]
  },
  {
   "cell_type": "code",
   "execution_count": null,
   "id": "92ed768f-093d-41cb-810c-227de3442569",
   "metadata": {},
   "outputs": [],
   "source": [
    "ans4) The binomial distribution is a discrete probability distribution that describes the number of successes in a fixed number of independent Bernoulli trials. \n",
    "Each trial can result in one of two outcomes: success or failure. The binomial distribution is characterized by two parameters: the number of trials \n",
    "n and the probability of success p.\n",
    "\n",
    "Fixed Number of Trials: The distribution is based on a fixed number of independent trials, denoted as \n",
    "n.\n",
    "Independent Trials: Each trial is independent of the others, meaning the outcome of one trial does not affect the outcome of the others.\n",
    "Two Outcomes: Each trial has two possible outcomes: \n",
    "Constant Probability: The probability of success remain constant across all trails.\n",
    "Discrete Values: The binomial random variable represents the count of successes, so it takes on discrete integer values.\n",
    "The PMF of the binomial distribution is given by the formula: (n choose k) * p^k * (1 - p)^(n - k"
   ]
  },
  {
   "cell_type": "code",
   "execution_count": 30,
   "id": "2eedab6b-dbb6-42d9-9fb0-6602b887b6d4",
   "metadata": {},
   "outputs": [
    {
     "data": {
      "image/png": "[encoded data removed]",
      "text/plain": [
       "<Figure size 640x480 with 1 Axes>"
      ]
     },
     "metadata": {},
     "output_type": "display_data"
    }
   ],
   "source": [
    "#ans5)\n",
    "import numpy as np\n",
    "import matplotlib.pyplot as plt\n",
    "\n",
    "# Parameters\n",
    "sample_size = 1000\n",
    "p_success = 0.4\n",
    "n_trials = 1  # Each trial is independent in this case\n",
    "\n",
    "# Generate random sample from a binomial distribution\n",
    "random_sample = np.random.binomial(n_trials, p_success, sample_size)\n",
    "\n",
    "# Plot histogram\n",
    "plt.hist(random_sample, bins=np.arange(n_trials+2)-0.5, rwidth=0.8, density=True)\n",
    "plt.xlabel('Number of Successes')\n",
    "plt.ylabel('Probability')\n",
    "plt.title('Histogram of Binomial Distribution')\n",
    "plt.xticks(range(n_trials+1))\n",
    "plt.grid(True)\n",
    "plt.show()\n"
   ]
  },
  {
   "cell_type": "code",
   "execution_count": null,
   "id": "1f465a83-f03b-4775-8361-72ec552f742c",
   "metadata": {},
   "outputs": [],
   "source": [
    "#ans6)\n",
    "import math\n",
    "\n",
    "def poisson_cdf(mean, k):\n",
    "    \"\"\"\n",
    "    Calculate the cumulative distribution function (CDF) of a Poisson distribution.\n",
    "\n",
    "    Args:\n",
    "        mean (float): Mean of the Poisson distribution.\n",
    "        k (int): Point at which to evaluate the CDF.\n",
    "\n",
    "    Returns:\n",
    "        float: Cumulative distribution function value at the given point.\n",
    "    \"\"\"\n",
    "    if mean < 0 or k < 0:\n",
    "        raise ValueError(\"Mean and k must be non-negative\")\n",
    "\n",
    "    cdf = 0\n",
    "    for i in range(k + 1):\n",
    "        cdf += math.exp(-mean) * (mean ** i) / math.factorial(i)\n",
    "\n",
    "    return cdf\n",
    "\n",
    "# Example usage\n",
    "mean = 2.5\n",
    "point = 3\n",
    "cdf_value = poisson_cdf(mean, point)\n",
    "print(f\"CDF at point {point} with mean {mean}: {cdf_value}\")\n"
   ]
  },
  {
   "cell_type": "code",
   "execution_count": null,
   "id": "27d32b53-030f-4716-8d01-1bd8d8becdbd",
   "metadata": {},
   "outputs": [],
   "source": [
    "ans7) The Binomial distribution and the Poisson distribution are both probability distributions that describe the number of events occurring within a fixed interval or number of trials.\n",
    "However, they are used in different scenarios and have distinct characteristics.\n",
    "\n",
    "1. **Binomial Distribution**:\n",
    "   - **Scenario**: The Binomial distribution is used when there are a fixed number of independent trials, each with two possible outcomes (usually labeled as \"success\" and \"failure\").\n",
    "   - **Parameters**: It is characterized by two parameters: the probability of success on a single trial (denoted as \"p\") and the number of trials (denoted as \"n\").\n",
    "   - **Example**: Coin flips, where you have a known probability of getting heads on each flip and you want to find the probability of getting a certain number of heads in a fixed number of flips.\n",
    "   - **Formula**: The probability mass function of the Binomial distribution is given by: P(X = k) = (n choose k) * p^k * (1 - p)^(n - k), where \"n choose k\" represents the binomial coefficient.\n",
    "\n",
    "2. **Poisson Distribution**:\n",
    "   - **Scenario**: The Poisson distribution is used to model the number of rare events occurring within a fixed interval or region, where the events are random and independent of each other.\n",
    "   - **Parameters**: It is characterized by a single parameter, denoted as \"λ\" (lambda), which represents the average rate of occurrence of the events within the interval.\n",
    "   - **Example**: The number of customer arrivals at a store in a given hour, the number of emails received per day, or the number of car accidents in a day in a specific area.\n",
    "   - **Formula**: The probability mass function of the Poisson distribution is given by: P(X = k) = (e^(-λ) * λ^k) / k!, where \"e\" is the base of the natural logarithm.\n",
    "\n"
   ]
  },
  {
   "cell_type": "code",
   "execution_count": 1,
   "id": "c752511c-ba49-4e1d-993e-697a31e46841",
   "metadata": {},
   "outputs": [
    {
     "name": "stdout",
     "output_type": "stream",
     "text": [
      "Sample Mean: 5.002\n",
      "Sample Variance: 5.213996\n"
     ]
    }
   ],
   "source": [
    "#ans8)\n",
    "import numpy as np\n",
    "\n",
    "# Parameters\n",
    "mean = 5\n",
    "sample_size = 1000\n",
    "\n",
    "# Generate random sample\n",
    "random_sample = np.random.poisson(mean, size=sample_size)\n",
    "\n",
    "# Calculate sample mean and variance\n",
    "sample_mean = np.mean(random_sample)\n",
    "sample_variance = np.var(random_sample)\n",
    "\n",
    "print(\"Sample Mean:\", sample_mean)\n",
    "print(\"Sample Variance:\", sample_variance)\n"
   ]
  },
  {
   "cell_type": "code",
   "execution_count": null,
   "id": "a9a0041c-64e4-469a-95b8-016d80cff626",
   "metadata": {},
   "outputs": [],
   "source": [
    "ans9)Binomial Distribution:\n",
    "In a Binomial distribution, which describes the number of successes in a fixed number of independent trials, \n",
    "the mean and variance are related by the formula:\n",
    "\n",
    "Mean (μ) = n * p\n",
    "Variance (σ^2) = n * p * (1 - p)\n",
    "\n",
    " Poisson Distribution:\n",
    "In a Poisson distribution, which models the number of rare events occurring within a fixed interval, \n",
    "the mean and variance are related by the equation:\n",
    "\n",
    "Mean (μ) = Variance (σ^2) = λ"
   ]
  },
  {
   "cell_type": "code",
   "execution_count": null,
   "id": "80753b78-b94a-4496-845e-b2200eb2fb9e",
   "metadata": {},
   "outputs": [],
   "source": [
    "ans10)In a normal distribution (also known as a Gaussian distribution), \n",
    "which is a symmetric probability distribution, the least frequent data appears in the tails of the distribution, \n",
    "farthest away from the mean."
   ]
  }
 ],
 "metadata": {
  "kernelspec": {
   "display_name": "Python 3 (ipykernel)",
   "language": "python",
   "name": "python3"
  },
  "language_info": {
   "codemirror_mode": {
    "name": "ipython",
    "version": 3
   },
   "file_extension": ".py",
   "mimetype": "text/x-python",
   "name": "python",
   "nbconvert_exporter": "python",
   "pygments_lexer": "ipython3",
   "version": "3.10.8"
  }
 },
 "nbformat": 4,
 "nbformat_minor": 5
}
